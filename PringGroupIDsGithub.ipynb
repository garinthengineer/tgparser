{
 "cells": [
  {
   "cell_type": "code",
   "execution_count": null,
   "id": "ec0d66aa-e2c1-4683-a51e-bf229a8e93da",
   "metadata": {},
   "outputs": [],
   "source": [
    "from telethon.sync import TelegramClient\n",
    "from telethon.tl.functions.messages import GetDialogsRequest\n",
    "from telethon.tl.types import InputPeerEmpty\n",
    "from telethon.tl.functions.messages import GetHistoryRequest\n",
    "import os, time, datetime, pickle\n",
    "\n",
    "# if datetime.datetime.today().weekday() < 5:\n",
    "if True:\n",
    "    api_id = # your api id here\n",
    "    api_hash = # your hash id here\n",
    "    phone = # your phone  here\n",
    "\n",
    "    client = TelegramClient(phone, api_id, api_hash)\n",
    "    client.connect()\n",
    "\n",
    "    if not client.is_user_authorized():\n",
    "        client.send_code_request(phone)\n",
    "        client.sign_in(phone, input('Enter the code: '))\n",
    "\n",
    "    # get chats\n",
    "\n",
    "    chats = []\n",
    "    last_date = None\n",
    "    chunk_size = 200\n",
    "    groups=[]\n",
    "\n",
    "    result = client(GetDialogsRequest(\n",
    "                 offset_date=last_date,\n",
    "                 offset_id=0,\n",
    "                 offset_peer=InputPeerEmpty(),\n",
    "                 limit=chunk_size,\n",
    "                 hash = 0\n",
    "             ))\n",
    "    chats.extend(result.chats)\n",
    "\n",
    "        for chat in chats:\n",
    "        try:\n",
    "            if (chat.megagroup == True or chat.gigagroup == True) or chat.boradcast == True:\n",
    "                groups.append(chat)\n",
    "        except:\n",
    "            continue\n",
    "\n",
    "    # Print groups names and ids\n",
    "    for gr in groups:\n",
    "        print(\"{}: {}\".format(gr.id, gr.title))"
   ]
  }
 ],
 "metadata": {
  "kernelspec": {
   "display_name": "Python 3 (ipykernel)",
   "language": "python",
   "name": "python3"
  },
  "language_info": {
   "codemirror_mode": {
    "name": "ipython",
    "version": 3
   },
   "file_extension": ".py",
   "mimetype": "text/x-python",
   "name": "python",
   "nbconvert_exporter": "python",
   "pygments_lexer": "ipython3",
   "version": "3.9.6"
  }
 },
 "nbformat": 4,
 "nbformat_minor": 5
}
